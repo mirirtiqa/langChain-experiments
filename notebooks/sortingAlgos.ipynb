{
 "cells": [
  {
   "cell_type": "code",
   "execution_count": 1,
   "metadata": {},
   "outputs": [],
   "source": [
    "def bubbleSort(self,arr, n):\n",
    "        # code here\n",
    "        for i in range(n-1):\n",
    "            swap = False\n",
    "            for j in range(n - i-1):\n",
    "                if arr[j]>arr[j+1]:\n",
    "                    temp = arr[j]\n",
    "                    arr[j] = arr[j+1]\n",
    "                    arr[j+1] = temp\n",
    "                    swap = True\n",
    "            if swap==False:\n",
    "                return arr\n",
    "        return arr"
   ]
  },
  {
   "cell_type": "code",
   "execution_count": null,
   "metadata": {},
   "outputs": [],
   "source": [
    "class Solution: \n",
    "    def select(self, arr, i):\n",
    "        # code here \n",
    "        m = i\n",
    "        for j in range(i+1,len(arr)):\n",
    "            if arr[j]<arr[m]:\n",
    "                m = j\n",
    "        return m\n",
    "    \n",
    "    def selectionSort(self, arr,n):\n",
    "        for i in range(n-1):\n",
    "            j = self.select(arr,i)\n",
    "            temp = arr[j]\n",
    "            arr[j]= arr[i]\n",
    "            arr[i] = temp\n",
    "        return arr"
   ]
  },
  {
   "cell_type": "code",
   "execution_count": 1,
   "metadata": {},
   "outputs": [],
   "source": [
    "\n",
    "class Solution:\n",
    "    def insert(self, alist, index, n):\n",
    "        #code here\n",
    "        j = index-1\n",
    "        key =alist[index]\n",
    "        while j>=0 and alist[j]>key:\n",
    "            alist[j+1] = alist[j]\n",
    "            j-=1\n",
    "        alist[j+1] = key\n",
    "        return alist\n",
    "            \n",
    "            \n",
    "        \n",
    "        \n",
    "    #Function to sort the list using insertion sort algorithm.    \n",
    "    def insertionSort(self, alist, n):\n",
    "        #code here\n",
    "        for i in range(1,n):\n",
    "            alist = self.insert(alist,i,n)\n",
    "            \n",
    "                    \n",
    "        return alist\n"
   ]
  },
  {
   "cell_type": "code",
   "execution_count": 13,
   "metadata": {},
   "outputs": [],
   "source": [
    "def insertInHeap(arr,element): #timeComplexity: logn\n",
    "    arr.append(element)\n",
    "    child = len(arr)-1\n",
    "    print(len(arr))\n",
    "    parent = child//2\n",
    "    while arr[child]>parent and parent>0:\n",
    "        temp = arr[parent]\n",
    "        arr[parent]= arr[child]\n",
    "        arr[child]=temp\n",
    "\n",
    "        child = parent\n",
    "        parent = child//2\n",
    "    \n",
    "    return arr\n",
    "\n",
    "\n"
   ]
  },
  {
   "cell_type": "code",
   "execution_count": 22,
   "metadata": {},
   "outputs": [
    {
     "name": "stdout",
     "output_type": "stream",
     "text": [
      "9\n",
      "[-1, 60, 50, 20, 30, 10, 8, 16, 15]\n"
     ]
    }
   ],
   "source": [
    "arr = [-1,50,30,20,15,10,8,16]\n",
    "print(insertInHeap(arr,60))"
   ]
  },
  {
   "cell_type": "code",
   "execution_count": 20,
   "metadata": {},
   "outputs": [],
   "source": [
    "def popLargest(heapArr):\n",
    "    element = heapArr[1]\n",
    "    lastIndex = len(heapArr)-1\n",
    "    heapArr[1]=heapArr[lastIndex]\n",
    "    heapArr[lastIndex] = element\n",
    "\n",
    "    curr = 1\n",
    "    leftChild = 2*curr\n",
    "    rigthChild = 2*curr +1\n",
    "    largest = 0\n",
    "    if leftChild < len(heapArr)-2 and heapArr[leftChild]>heapArr[curr]:\n",
    "            largest = leftChild\n",
    "    elif rigthChild < len(heapArr)-2 and heapArr[rigthChild]>heapArr[curr]:\n",
    "            largest = rigthChild\n",
    "\n",
    "    while largest:\n",
    "        temp = heapArr[largest]\n",
    "        heapArr[largest] = heapArr[curr]\n",
    "        heapArr[curr] = temp\n",
    "\n",
    "        curr = largest\n",
    "        leftChild = 2*curr\n",
    "        rigthChild = 2*curr +1\n",
    "\n",
    "        if leftChild <  len(heapArr)-2 and heapArr[leftChild]>heapArr[curr]:\n",
    "            largest = leftChild\n",
    "        elif rigthChild <  len(heapArr)-2 and heapArr[rigthChild]>heapArr[curr]:\n",
    "            largest = rigthChild\n",
    "        else:\n",
    "            largest = 0\n",
    "    \n",
    "    return element\n",
    "    \n"
   ]
  },
  {
   "cell_type": "code",
   "execution_count": 23,
   "metadata": {},
   "outputs": [
    {
     "name": "stdout",
     "output_type": "stream",
     "text": [
      "[-1, 60, 50, 20, 30, 10, 8, 16, 15]\n"
     ]
    }
   ],
   "source": [
    "print(arr)"
   ]
  },
  {
   "cell_type": "code",
   "execution_count": 33,
   "metadata": {},
   "outputs": [
    {
     "data": {
      "text/plain": [
       "50"
      ]
     },
     "execution_count": 33,
     "metadata": {},
     "output_type": "execute_result"
    }
   ],
   "source": [
    "arr1 = popLargest(arr)\n",
    "arr1"
   ]
  },
  {
   "cell_type": "code",
   "execution_count": null,
   "metadata": {},
   "outputs": [],
   "source": []
  }
 ],
 "metadata": {
  "kernelspec": {
   "display_name": "Python 3",
   "language": "python",
   "name": "python3"
  },
  "language_info": {
   "codemirror_mode": {
    "name": "ipython",
    "version": 3
   },
   "file_extension": ".py",
   "mimetype": "text/x-python",
   "name": "python",
   "nbconvert_exporter": "python",
   "pygments_lexer": "ipython3",
   "version": "3.10.13"
  }
 },
 "nbformat": 4,
 "nbformat_minor": 2
}
