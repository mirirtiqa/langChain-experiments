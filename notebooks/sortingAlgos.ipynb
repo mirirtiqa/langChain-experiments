{
 "cells": [
  {
   "cell_type": "code",
   "execution_count": 1,
   "metadata": {},
   "outputs": [],
   "source": [
    "def bubbleSort(self,arr, n):\n",
    "        # code here\n",
    "        for i in range(n-1):\n",
    "            swap = False\n",
    "            for j in range(n - i-1):\n",
    "                if arr[j]>arr[j+1]:\n",
    "                    temp = arr[j]\n",
    "                    arr[j] = arr[j+1]\n",
    "                    arr[j+1] = temp\n",
    "                    swap = True\n",
    "            if swap==False:\n",
    "                return arr\n",
    "        return arr"
   ]
  },
  {
   "cell_type": "code",
   "execution_count": null,
   "metadata": {},
   "outputs": [],
   "source": [
    "class Solution: \n",
    "    def select(self, arr, i):\n",
    "        # code here \n",
    "        m = i\n",
    "        for j in range(i+1,len(arr)):\n",
    "            if arr[j]<arr[m]:\n",
    "                m = j\n",
    "        return m\n",
    "    \n",
    "    def selectionSort(self, arr,n):\n",
    "        for i in range(n-1):\n",
    "            j = self.select(arr,i)\n",
    "            temp = arr[j]\n",
    "            arr[j]= arr[i]\n",
    "            arr[i] = temp\n",
    "        return arr"
   ]
  },
  {
   "cell_type": "code",
   "execution_count": 1,
   "metadata": {},
   "outputs": [],
   "source": [
    "\n",
    "class Solution:\n",
    "    def insert(self, alist, index, n):\n",
    "        #code here\n",
    "        j = index-1\n",
    "        key =alist[index]\n",
    "        while j>=0 and alist[j]>key:\n",
    "            alist[j+1] = alist[j]\n",
    "            j-=1\n",
    "        alist[j+1] = key\n",
    "        return alist\n",
    "            \n",
    "            \n",
    "        \n",
    "        \n",
    "    #Function to sort the list using insertion sort algorithm.    \n",
    "    def insertionSort(self, alist, n):\n",
    "        #code here\n",
    "        for i in range(1,n):\n",
    "            alist = self.insert(alist,i,n)\n",
    "            \n",
    "                    \n",
    "        return alist\n"
   ]
  }
 ],
 "metadata": {
  "kernelspec": {
   "display_name": "Python 3",
   "language": "python",
   "name": "python3"
  },
  "language_info": {
   "codemirror_mode": {
    "name": "ipython",
    "version": 3
   },
   "file_extension": ".py",
   "mimetype": "text/x-python",
   "name": "python",
   "nbconvert_exporter": "python",
   "pygments_lexer": "ipython3",
   "version": "3.10.13"
  }
 },
 "nbformat": 4,
 "nbformat_minor": 2
}
